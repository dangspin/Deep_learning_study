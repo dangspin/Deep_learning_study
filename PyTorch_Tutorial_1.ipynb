{
 "cells": [
  {
   "cell_type": "markdown",
   "metadata": {},
   "source": [
    "### This set of tutorial is based on this github repository: https://github.com/MorvanZhou/PyTorch-Tutorial/blob/master/tutorial-contents/201_torch_numpy.py"
   ]
  },
  {
   "cell_type": "markdown",
   "metadata": {},
   "source": [
    "#### Special thanks to the author Morvan Zhou"
   ]
  },
  {
   "cell_type": "code",
   "execution_count": null,
   "metadata": {
    "collapsed": true
   },
   "outputs": [],
   "source": []
  },
  {
   "cell_type": "markdown",
   "metadata": {},
   "source": [
    "## 1. Learn torch tensor based on numpy"
   ]
  },
  {
   "cell_type": "code",
   "execution_count": 3,
   "metadata": {
    "collapsed": true
   },
   "outputs": [],
   "source": [
    "import torch\n",
    "import numpy as np"
   ]
  },
  {
   "cell_type": "code",
   "execution_count": 4,
   "metadata": {},
   "outputs": [
    {
     "data": {
      "text/plain": [
       "array([[0, 1, 2],\n",
       "       [3, 4, 5]])"
      ]
     },
     "execution_count": 4,
     "metadata": {},
     "output_type": "execute_result"
    }
   ],
   "source": [
    "np_data = np.arange(6).reshape(2,3)\n",
    "np_data"
   ]
  },
  {
   "cell_type": "code",
   "execution_count": 5,
   "metadata": {
    "collapsed": true
   },
   "outputs": [],
   "source": [
    "torch_data = torch.from_numpy(np_data)\n",
    "tensor2array = torch_data.numpy()"
   ]
  },
  {
   "cell_type": "code",
   "execution_count": 6,
   "metadata": {},
   "outputs": [
    {
     "name": "stdout",
     "output_type": "stream",
     "text": [
      "\n",
      "numpy array: [[0 1 2]\n",
      " [3 4 5]]\n",
      "\n",
      "Torch tensor: tensor([[ 0,  1,  2],\n",
      "        [ 3,  4,  5]])\n",
      "\n",
      "Troc tensor back to array: [[0 1 2]\n",
      " [3 4 5]]\n"
     ]
    }
   ],
   "source": [
    "print (\"\\nnumpy array:\", np_data)\n",
    "print (\"\\nTorch tensor:\", torch_data)\n",
    "print (\"\\nTroc tensor back to array:\" , tensor2array)"
   ]
  },
  {
   "cell_type": "code",
   "execution_count": 7,
   "metadata": {},
   "outputs": [
    {
     "name": "stdout",
     "output_type": "stream",
     "text": [
      "\n",
      "abs \n",
      "numpy:  [1 2 1 2] \n",
      "torch:  tensor([ 1.,  2.,  1.,  2.])\n"
     ]
    }
   ],
   "source": [
    "# abs\n",
    "\n",
    "data = [-1,-2,1,2]\n",
    "tensor = torch.FloatTensor(data)\n",
    "\n",
    "print(\n",
    "    '\\nabs',\n",
    "    '\\nnumpy: ', np.abs(data),          # [1 2 1 2]\n",
    "    '\\ntorch: ', torch.abs(tensor)      # [1 2 1 2]\n",
    ")"
   ]
  },
  {
   "cell_type": "code",
   "execution_count": 8,
   "metadata": {},
   "outputs": [
    {
     "name": "stdout",
     "output_type": "stream",
     "text": [
      "\n",
      "mean calculation:  \n",
      "numpy: 0.0 \n",
      "Torch: tensor(0.)\n"
     ]
    }
   ],
   "source": [
    "# mean \n",
    "\n",
    "print (\n",
    "    \"\\nmean calculation: \",\n",
    "    \"\\nnumpy:\", np.mean(data),\n",
    "    \"\\nTorch:\", torch.mean(tensor)\n",
    ")"
   ]
  },
  {
   "cell_type": "code",
   "execution_count": 13,
   "metadata": {},
   "outputs": [
    {
     "name": "stdout",
     "output_type": "stream",
     "text": [
      "\n",
      "Matrix multiplication:  \n",
      "numpy:  [[  7.  10.]\n",
      " [ 15.  22.]] \n",
      "Pytorch: tensor([[  7.,  10.],\n",
      "        [ 15.,  22.]])\n"
     ]
    }
   ],
   "source": [
    "# Matrix multiplication\n",
    "\n",
    "data = np.array([[1,2],[3,4]], dtype = float)\n",
    "tensor = torch.FloatTensor(data)\n",
    "\n",
    "print (\n",
    "    \"\\nMatrix multiplication: \",\n",
    "    \"\\nnumpy: \", np.dot(data, data),\n",
    "    \"\\nPytorch:\", torch.mm(tensor, tensor)\n",
    ")"
   ]
  },
  {
   "cell_type": "markdown",
   "metadata": {},
   "source": [
    "## 2. Pytorch variables"
   ]
  },
  {
   "cell_type": "code",
   "execution_count": 14,
   "metadata": {
    "collapsed": true
   },
   "outputs": [],
   "source": [
    "from torch.autograd import Variable"
   ]
  },
  {
   "cell_type": "code",
   "execution_count": 15,
   "metadata": {},
   "outputs": [
    {
     "name": "stdout",
     "output_type": "stream",
     "text": [
      "tensor([[ 1.,  2.],\n",
      "        [ 3.,  4.]])\n",
      "tensor([[ 1.,  2.],\n",
      "        [ 3.,  4.]])\n"
     ]
    }
   ],
   "source": [
    "tensor = torch.FloatTensor([[1,2],[3,4]])  ## This is a tensor\n",
    "variable = Variable(tensor, requires_grad = True) ## This is a variable, for computing gradients\n",
    "\n",
    "print (tensor)\n",
    "print (variable)"
   ]
  },
  {
   "cell_type": "markdown",
   "metadata": {},
   "source": [
    "The tensor is only a matrix and the variable looks similar to it, however variable is a part of the auto-gradient"
   ]
  },
  {
   "cell_type": "code",
   "execution_count": 16,
   "metadata": {},
   "outputs": [
    {
     "name": "stdout",
     "output_type": "stream",
     "text": [
      "tensor(7.5000)\n",
      "tensor(7.5000)\n"
     ]
    }
   ],
   "source": [
    "t_out = torch.mean(tensor*tensor) ## this is the square of tensor\n",
    "v_out = torch.mean(variable*variable) \n",
    "\n",
    "print (t_out)\n",
    "print (v_out)"
   ]
  },
  {
   "cell_type": "code",
   "execution_count": 17,
   "metadata": {},
   "outputs": [
    {
     "name": "stdout",
     "output_type": "stream",
     "text": [
      "tensor([[ 0.5000,  1.0000],\n",
      "        [ 1.5000,  2.0000]])\n"
     ]
    }
   ],
   "source": [
    "v_out.backward()\n",
    "print (variable.grad)"
   ]
  },
  {
   "cell_type": "code",
   "execution_count": 21,
   "metadata": {},
   "outputs": [
    {
     "name": "stdout",
     "output_type": "stream",
     "text": [
      "tensor([[ 0.5000,  1.0000,  1.5000,  2.0000]])\n",
      "tensor([[ 1.,  2.,  3.,  4.]])\n"
     ]
    }
   ],
   "source": [
    "## another try\n",
    "\n",
    "tensor = torch.FloatTensor([[1,2,3,4]])\n",
    "variable = Variable(tensor, requires_grad = True)\n",
    "\n",
    "v_out = torch.mean(variable*variable)\n",
    "v_out.backward()\n",
    "\n",
    "print (variable.grad)\n",
    "print (variable.data)"
   ]
  },
  {
   "cell_type": "markdown",
   "metadata": {},
   "source": [
    "## 3. Activation functions"
   ]
  },
  {
   "cell_type": "code",
   "execution_count": 22,
   "metadata": {
    "collapsed": true
   },
   "outputs": [],
   "source": [
    "import torch.nn.functional as fun\n",
    "import matplotlib.pyplot as plt"
   ]
  },
  {
   "cell_type": "code",
   "execution_count": 23,
   "metadata": {
    "collapsed": true
   },
   "outputs": [],
   "source": [
    "## creat data\n",
    "\n",
    "x = torch.linspace(-5, 5, 200)\n",
    "x = Variable(x)\n",
    "x_np = x.data.numpy()"
   ]
  },
  {
   "cell_type": "code",
   "execution_count": 30,
   "metadata": {},
   "outputs": [],
   "source": [
    "## use the above data to calculate different activation functions\n",
    "\n",
    "y_relu = fun.relu(x).data.numpy()\n",
    "y_sigmoid = fun.sigmoid(x).data.numpy()\n",
    "y_tanh = fun.tanh(x).data.numpy()\n",
    "y_softplus = fun.softplus(x).data.numpy()\n",
    "y_leak = fun.leaky_relu(x,negative_slope=0.1).data.numpy()\n"
   ]
  },
  {
   "cell_type": "code",
   "execution_count": 31,
   "metadata": {},
   "outputs": [
    {
     "data": {
      "image/png": "[encoded data removed]",
      "text/plain": [
       "<matplotlib.figure.Figure at 0x110be0a20>"
      ]
     },
     "metadata": {},
     "output_type": "display_data"
    }
   ],
   "source": [
    "# plt to visualize these activation function\n",
    "plt.figure(1, figsize=(8, 6))\n",
    "plt.subplot(221)\n",
    "plt.plot(x_np, y_relu, c='red', label='relu')\n",
    "plt.ylim((-1, 5))\n",
    "plt.legend(loc='best')\n",
    "\n",
    "plt.subplot(222)\n",
    "plt.plot(x_np, y_sigmoid, c='red', label='sigmoid')\n",
    "plt.ylim((-0.2, 1.2))\n",
    "plt.legend(loc='best')\n",
    "\n",
    "plt.subplot(223)\n",
    "plt.plot(x_np, y_tanh, c='red', label='tanh')\n",
    "plt.ylim((-1.2, 1.2))\n",
    "plt.legend(loc='best')\n",
    "\n",
    "plt.subplot(224)\n",
    "plt.plot(x_np, y_leak, c='red', label='leak_relu')\n",
    "plt.ylim((-1, 5))\n",
    "plt.legend(loc='best')\n",
    "\n",
    "plt.show()"
   ]
  },
  {
   "cell_type": "code",
   "execution_count": null,
   "metadata": {
    "collapsed": true
   },
   "outputs": [],
   "source": []
  },
  {
   "cell_type": "code",
   "execution_count": null,
   "metadata": {
    "collapsed": true
   },
   "outputs": [],
   "source": []
  },
  {
   "cell_type": "code",
   "execution_count": null,
   "metadata": {
    "collapsed": true
   },
   "outputs": [],
   "source": []
  },
  {
   "cell_type": "code",
   "execution_count": null,
   "metadata": {
    "collapsed": true
   },
   "outputs": [],
   "source": []
  },
  {
   "cell_type": "code",
   "execution_count": null,
   "metadata": {
    "collapsed": true
   },
   "outputs": [],
   "source": []
  },
  {
   "cell_type": "code",
   "execution_count": null,
   "metadata": {
    "collapsed": true
   },
   "outputs": [],
   "source": []
  }
 ],
 "metadata": {
  "kernelspec": {
   "display_name": "Python 3",
   "language": "python",
   "name": "python3"
  },
  "language_info": {
   "codemirror_mode": {
    "name": "ipython",
    "version": 3
   },
   "file_extension": ".py",
   "mimetype": "text/x-python",
   "name": "python",
   "nbconvert_exporter": "python",
   "pygments_lexer": "ipython3",
   "version": "3.6.3"
  }
 },
 "nbformat": 4,
 "nbformat_minor": 2
}
