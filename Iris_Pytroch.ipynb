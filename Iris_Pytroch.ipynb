{
 "cells": [
  {
   "cell_type": "code",
   "execution_count": 1,
   "metadata": {
    "collapsed": true
   },
   "outputs": [],
   "source": [
    "from sklearn.datasets import load_iris\n",
    "import torch\n",
    "from torch.autograd import Variable\n",
    "import torch.nn.functional as F\n",
    "import matplotlib.pyplot as plt\n",
    "import numpy as np"
   ]
  },
  {
   "cell_type": "code",
   "execution_count": 2,
   "metadata": {
    "collapsed": true
   },
   "outputs": [],
   "source": [
    "## load data\n",
    "\n",
    "iris_data = load_iris()"
   ]
  },
  {
   "cell_type": "code",
   "execution_count": 3,
   "metadata": {
    "collapsed": true
   },
   "outputs": [],
   "source": [
    "## Check the dataset\n",
    "\n",
    "dataset = iris_data.data\n",
    "target = iris_data.target"
   ]
  },
  {
   "cell_type": "code",
   "execution_count": 4,
   "metadata": {
    "collapsed": true
   },
   "outputs": [],
   "source": [
    "def mapping(x,target):\n",
    "    \n",
    "    \"\"\"\n",
    "    This is the mapping function.\n",
    "    \n",
    "    argument:\n",
    "    x -- int of float\n",
    "    \n",
    "    return:\n",
    "    1 if x==target\n",
    "    0 else\n",
    "    \"\"\"\n",
    "    if (x==target):\n",
    "        return 1\n",
    "    else:\n",
    "        return 0\n",
    "\n",
    "\n",
    "def buildY(a,target):\n",
    "    vmap=np.vectorize(mapping)\n",
    "    return np.squeeze(np.array([vmap(a,i) for i in target]))"
   ]
  },
  {
   "cell_type": "code",
   "execution_count": 63,
   "metadata": {
    "collapsed": true
   },
   "outputs": [],
   "source": [
    "Y = buildY(target,range(3))\n",
    "Y = Y.T\n"
   ]
  },
  {
   "cell_type": "code",
   "execution_count": 4,
   "metadata": {
    "collapsed": true
   },
   "outputs": [],
   "source": [
    "## Train test split\n",
    "from sklearn.model_selection import train_test_split\n",
    "\n",
    "X_train, X_test, Y_train, Y_test = train_test_split(dataset, target)"
   ]
  },
  {
   "cell_type": "code",
   "execution_count": 5,
   "metadata": {},
   "outputs": [
    {
     "name": "stdout",
     "output_type": "stream",
     "text": [
      "(112, 4)\n",
      "(112,)\n",
      "(38, 4)\n",
      "(38,)\n"
     ]
    }
   ],
   "source": [
    "print (X_train.shape)\n",
    "print (Y_train.shape)\n",
    "print (X_test.shape)\n",
    "print (Y_test.shape)\n"
   ]
  },
  {
   "cell_type": "code",
   "execution_count": null,
   "metadata": {
    "collapsed": true
   },
   "outputs": [],
   "source": []
  },
  {
   "cell_type": "code",
   "execution_count": null,
   "metadata": {
    "collapsed": true
   },
   "outputs": [],
   "source": []
  },
  {
   "cell_type": "code",
   "execution_count": 6,
   "metadata": {
    "collapsed": true
   },
   "outputs": [],
   "source": [
    "## Build pytorch variable\n",
    "\n",
    "x_train = Variable(torch.FloatTensor(X_train))\n",
    "x_test = Variable(torch.FloatTensor(X_test))\n",
    "y_train = Variable(torch.LongTensor(Y_train))\n",
    "y_test = Variable(torch.LongTensor(Y_test))"
   ]
  },
  {
   "cell_type": "code",
   "execution_count": 7,
   "metadata": {},
   "outputs": [
    {
     "data": {
      "image/png": "[encoded data removed]",
      "text/plain": [
       "<matplotlib.figure.Figure at 0x1a1460d3c8>"
      ]
     },
     "metadata": {},
     "output_type": "display_data"
    }
   ],
   "source": [
    "## plot some of the data\n",
    "\n",
    "plt.scatter(x_train.data.numpy()[:, 0], x_train.data.numpy()[:, 2], c=y_train.data.numpy()[:], s=100, lw=0, cmap='RdYlGn')\n",
    "plt.show()"
   ]
  },
  {
   "cell_type": "code",
   "execution_count": 14,
   "metadata": {},
   "outputs": [
    {
     "name": "stdout",
     "output_type": "stream",
     "text": [
      "Net(\n",
      "  (hidden): Linear(in_features=4, out_features=10, bias=True)\n",
      "  (out): Linear(in_features=10, out_features=3, bias=True)\n",
      ")\n"
     ]
    }
   ],
   "source": [
    "## Define a neural net\n",
    "\n",
    "class Net(torch.nn.Module):\n",
    "    \n",
    "    def __init__(self, n_feature, n_hidden, n_output):\n",
    "        super(Net, self).__init__()\n",
    "        \n",
    "        self.hidden = torch.nn.Linear(n_feature, n_hidden)\n",
    "        self.out = torch.nn.Linear(n_hidden, n_output)\n",
    "    \n",
    "    def forward(self, x):\n",
    "        x = F.relu(self.hidden(x))\n",
    "        y = self.out(x)\n",
    "        return y\n",
    "    \n",
    "\n",
    "net = Net(n_feature = 4, n_hidden = 10, n_output = 3)\n",
    "print (net)"
   ]
  },
  {
   "cell_type": "code",
   "execution_count": 15,
   "metadata": {
    "collapsed": true
   },
   "outputs": [],
   "source": [
    "loss_fn = torch.nn.CrossEntropyLoss() #calculates the loss\n",
    "optimizer = torch.optim.Adam(net.parameters(), lr = 0.01)"
   ]
  },
  {
   "cell_type": "code",
   "execution_count": 16,
   "metadata": {},
   "outputs": [
    {
     "name": "stdout",
     "output_type": "stream",
     "text": [
      "This is the 0 iteration The train accuracy is: 0.330357\n",
      "This is the 100 iteration The train accuracy is: 0.982143\n",
      "This is the 200 iteration The train accuracy is: 0.982143\n",
      "This is the 300 iteration The train accuracy is: 0.973214\n",
      "This is the 400 iteration The train accuracy is: 0.973214\n",
      "This is the 500 iteration The train accuracy is: 0.982143\n",
      "This is the 600 iteration The train accuracy is: 0.982143\n",
      "This is the 700 iteration The train accuracy is: 0.982143\n",
      "This is the 800 iteration The train accuracy is: 0.982143\n",
      "This is the 900 iteration The train accuracy is: 0.982143\n",
      "This is the 1000 iteration The train accuracy is: 0.982143\n",
      "This is the 1100 iteration The train accuracy is: 0.982143\n",
      "This is the 1200 iteration The train accuracy is: 0.982143\n",
      "This is the 1300 iteration The train accuracy is: 0.982143\n",
      "This is the 1400 iteration The train accuracy is: 0.982143\n",
      "This is the 1500 iteration The train accuracy is: 0.982143\n",
      "This is the 1600 iteration The train accuracy is: 0.982143\n",
      "This is the 1700 iteration The train accuracy is: 0.982143\n",
      "This is the 1800 iteration The train accuracy is: 0.982143\n",
      "This is the 1900 iteration The train accuracy is: 0.982143\n",
      "This is the 2000 iteration The train accuracy is: 0.982143\n",
      "This is the 2100 iteration The train accuracy is: 0.982143\n",
      "This is the 2200 iteration The train accuracy is: 0.982143\n",
      "This is the 2300 iteration The train accuracy is: 0.982143\n",
      "This is the 2400 iteration The train accuracy is: 0.982143\n",
      "This is the 2500 iteration The train accuracy is: 0.982143\n",
      "This is the 2600 iteration The train accuracy is: 0.982143\n",
      "This is the 2700 iteration The train accuracy is: 0.982143\n",
      "This is the 2800 iteration The train accuracy is: 0.982143\n",
      "This is the 2900 iteration The train accuracy is: 0.982143\n"
     ]
    }
   ],
   "source": [
    "losslist = []\n",
    "\n",
    "for t in range(3000):\n",
    "    \n",
    "    ## Forward propagation\n",
    "    pred = net(x_train)\n",
    "    loss = loss_fn(pred, y_train)\n",
    "    losslist.append(loss.data)\n",
    "    \n",
    "    if (t%100 == 0):\n",
    "        prediction = pred.data.numpy().argmax(axis = 1)\n",
    "        accuracy = ((prediction == y_train.data.numpy()).sum())/prediction.shape[0]\n",
    "        print (\"This is the %s iteration\"%t,\"The train accuracy is: %f\"%accuracy)\n",
    "    \n",
    "    ## Backward propagation\n",
    "    optimizer.zero_grad()\n",
    "    loss.backward()\n",
    "    optimizer.step()\n",
    "    "
   ]
  },
  {
   "cell_type": "code",
   "execution_count": 18,
   "metadata": {},
   "outputs": [
    {
     "data": {
      "image/png": "[encoded data removed]",
      "text/plain": [
       "<matplotlib.figure.Figure at 0x1a17a137f0>"
      ]
     },
     "metadata": {},
     "output_type": "display_data"
    }
   ],
   "source": [
    "plt.plot(list(range(3000)), losslist, 'b-')\n",
    "plt.show()"
   ]
  },
  {
   "cell_type": "code",
   "execution_count": 32,
   "metadata": {},
   "outputs": [
    {
     "name": "stdout",
     "output_type": "stream",
     "text": [
      "The accuracy is: 1.000000\n",
      "The confusion matrix is: \n",
      "[[12  0  0]\n",
      " [ 0 13  0]\n",
      " [ 0  0 13]]\n"
     ]
    }
   ],
   "source": [
    "## Let's make prediction!! \n",
    "\n",
    "from sklearn.metrics import accuracy_score\n",
    "from sklearn.metrics import confusion_matrix\n",
    "\n",
    "\n",
    "prediction = net(x_test).data.numpy().argmax(axis = 1)\n",
    "Y_test = y_test.data.numpy()\n",
    "\n",
    "print (\"The accuracy is: %f\"%accuracy_score(Y_test, prediction))\n",
    "print (\"The confusion matrix is: \\n%s\"%confusion_matrix(Y_test, prediction))"
   ]
  },
  {
   "cell_type": "code",
   "execution_count": null,
   "metadata": {},
   "outputs": [],
   "source": []
  },
  {
   "cell_type": "code",
   "execution_count": null,
   "metadata": {},
   "outputs": [],
   "source": []
  },
  {
   "cell_type": "code",
   "execution_count": null,
   "metadata": {},
   "outputs": [],
   "source": []
  },
  {
   "cell_type": "code",
   "execution_count": null,
   "metadata": {},
   "outputs": [],
   "source": []
  },
  {
   "cell_type": "code",
   "execution_count": null,
   "metadata": {
    "collapsed": true
   },
   "outputs": [],
   "source": []
  }
 ],
 "metadata": {
  "kernelspec": {
   "display_name": "Python 3",
   "language": "python",
   "name": "python3"
  },
  "language_info": {
   "codemirror_mode": {
    "name": "ipython",
    "version": 3
   },
   "file_extension": ".py",
   "mimetype": "text/x-python",
   "name": "python",
   "nbconvert_exporter": "python",
   "pygments_lexer": "ipython3",
   "version": "3.6.3"
  }
 },
 "nbformat": 4,
 "nbformat_minor": 2
}
