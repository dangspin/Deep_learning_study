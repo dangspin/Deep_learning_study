{
 "cells": [
  {
   "cell_type": "code",
   "execution_count": 2,
   "metadata": {},
   "outputs": [],
   "source": [
    "import tensorflow as tf\n",
    "import numpy as np\n",
    "import matplotlib.pyplot as plt\n",
    "\n",
    "%matplotlib notebook"
   ]
  },
  {
   "cell_type": "markdown",
   "metadata": {},
   "source": [
    "### 1. import dataset"
   ]
  },
  {
   "cell_type": "code",
   "execution_count": 3,
   "metadata": {
    "collapsed": true
   },
   "outputs": [],
   "source": [
    "from sklearn.datasets import load_boston\n",
    "from sklearn.preprocessing import normalize # to standardize our data\n",
    "from sklearn.model_selection import train_test_split\n",
    "data, targets = load_boston(True)\n",
    "data = normalize(data)\n",
    "targets = targets.reshape((targets.shape[0],1)) # reshape targets to follow our variables\n",
    "X_train, X_test, y_train, y_test = train_test_split(data, targets, \n",
    "                                                    test_size = 0.3, random_state = 42)"
   ]
  },
  {
   "cell_type": "code",
   "execution_count": 6,
   "metadata": {},
   "outputs": [
    {
     "data": {
      "text/plain": [
       "array(['CRIM', 'ZN', 'INDUS', 'CHAS', 'NOX', 'RM', 'AGE', 'DIS', 'RAD',\n",
       "       'TAX', 'PTRATIO', 'B', 'LSTAT'], dtype='<U7')"
      ]
     },
     "execution_count": 6,
     "metadata": {},
     "output_type": "execute_result"
    }
   ],
   "source": [
    "boston = load_boston()\n",
    "\n",
    "boston.feature_names\n",
    "boston."
   ]
  },
  {
   "cell_type": "code",
   "execution_count": 13,
   "metadata": {},
   "outputs": [
    {
     "name": "stdout",
     "output_type": "stream",
     "text": [
      "(506, 13)\n",
      "(506, 1)\n",
      "354\n",
      "152\n"
     ]
    }
   ],
   "source": [
    "print (data.shape)\n",
    "print (targets.shape)\n",
    "\n",
    "print (X_train.shape[0])\n",
    "print (X_test.shape[0])"
   ]
  },
  {
   "cell_type": "markdown",
   "metadata": {},
   "source": [
    "In summary: we have a dataset with 13 features and 506 observations."
   ]
  },
  {
   "cell_type": "markdown",
   "metadata": {},
   "source": [
    "### 2. Build Computing graph"
   ]
  },
  {
   "cell_type": "code",
   "execution_count": 14,
   "metadata": {
    "collapsed": true
   },
   "outputs": [],
   "source": [
    "num_observe = data.shape[0]\n",
    "num_feature = data.shape[1]\n",
    "\n",
    "\n",
    "\n",
    "x = tf.placeholder(dtype = tf.float32, shape=[None, num_feature])\n",
    "y = tf.placeholder(dtype = tf.float32, shape=[None, 1])"
   ]
  },
  {
   "cell_type": "code",
   "execution_count": 15,
   "metadata": {
    "collapsed": true
   },
   "outputs": [],
   "source": [
    "W = tf.Variable(tf.random_normal([num_feature, 1]))\n",
    "b = tf.Variable(tf.random_normal([1]))\n",
    "\n",
    "\n",
    "\n",
    "y_pred = tf.matmul(x, W) + b\n",
    "\n",
    "loss = tf.reduce_mean(tf.square(y-y_pred))\n",
    "\n",
    "training = tf.train.GradientDescentOptimizer(learning_rate = 0.5).minimize(loss)"
   ]
  },
  {
   "cell_type": "code",
   "execution_count": 26,
   "metadata": {},
   "outputs": [
    {
     "name": "stdout",
     "output_type": "stream",
     "text": [
      "[[ 1.2791563 ]\n",
      " [-0.18129672]\n",
      " [-0.8660364 ]\n",
      " [-0.32327622]\n",
      " [-1.4995571 ]\n",
      " [-0.54688823]\n",
      " [ 0.68787086]\n",
      " [ 0.2049409 ]\n",
      " [-1.4410965 ]\n",
      " [-0.14512208]\n",
      " [-1.0788212 ]\n",
      " [-1.0785836 ]\n",
      " [-0.38703287]]\n"
     ]
    }
   ],
   "source": [
    "with tf.Session() as sess:\n",
    "    sess.run(tf.global_variables_initializer())\n",
    "    print (sess.run(W))"
   ]
  },
  {
   "cell_type": "markdown",
   "metadata": {},
   "source": [
    "### 3. Train the graph"
   ]
  },
  {
   "cell_type": "code",
   "execution_count": 27,
   "metadata": {},
   "outputs": [
    {
     "name": "stdout",
     "output_type": "stream",
     "text": [
      "the value of loss function: 551.3761\n",
      "the value of loss function: 64.05807\n",
      "the value of loss function: 62.01592\n",
      "the value of loss function: 60.532997\n",
      "the value of loss function: 59.255264\n",
      "the value of loss function: 58.08736\n",
      "the value of loss function: 56.9968\n",
      "the value of loss function: 55.969044\n",
      "the value of loss function: 54.99608\n",
      "the value of loss function: 54.072735\n",
      "the value of loss function: 53.19525\n",
      "the value of loss function: 52.360687\n",
      "the value of loss function: 51.566566\n",
      "the value of loss function: 50.810658\n",
      "the value of loss function: 50.09097\n",
      "the value of loss function: 49.405666\n",
      "the value of loss function: 48.75299\n",
      "the value of loss function: 48.13132\n",
      "the value of loss function: 47.539097\n",
      "the value of loss function: 46.974857\n",
      "House prices are off by an average of 4.4104595937226945 thousand dollars.\n",
      "[[ -45.281307 ]\n",
      " [  30.668879 ]\n",
      " [ -29.298103 ]\n",
      " [   3.6610236]\n",
      " [   1.2752678]\n",
      " [  33.31273  ]\n",
      " [   9.06746  ]\n",
      " [ -18.885952 ]\n",
      " [   8.991432 ]\n",
      " [ -13.625144 ]\n",
      " [ -41.520454 ]\n",
      " [   6.6115375]\n",
      " [-192.83667  ]]\n"
     ]
    }
   ],
   "source": [
    "with tf.Session() as sess:\n",
    "    \n",
    "    num_of_iteration = 5000\n",
    "    sess.run(tf.global_variables_initializer())\n",
    "    \n",
    "    for i in range(num_of_iteration):\n",
    "        sess.run(training, feed_dict = {x: X_train, y: y_train})\n",
    "        if (i % 250 == 0):\n",
    "            print ('the value of loss function:', loss.eval(feed_dict={x: X_train, y: y_train}))\n",
    "            \n",
    "    predictions = sess.run(y_pred, feed_dict={x: X_test})\n",
    "    differences = predictions.flatten() - y_test.flatten()\n",
    "    differences = [abs(x) for x in differences]\n",
    "    print (\"House prices are off by an average of\", np.mean(differences), \"thousand dollars.\")\n",
    "    \n",
    "    print (sess.run(W))"
   ]
  },
  {
   "cell_type": "code",
   "execution_count": null,
   "metadata": {},
   "outputs": [],
   "source": []
  },
  {
   "cell_type": "code",
   "execution_count": null,
   "metadata": {
    "collapsed": true
   },
   "outputs": [],
   "source": []
  }
 ],
 "metadata": {
  "kernelspec": {
   "display_name": "Python 3",
   "language": "python",
   "name": "python3"
  },
  "language_info": {
   "codemirror_mode": {
    "name": "ipython",
    "version": 3
   },
   "file_extension": ".py",
   "mimetype": "text/x-python",
   "name": "python",
   "nbconvert_exporter": "python",
   "pygments_lexer": "ipython3",
   "version": "3.6.3"
  }
 },
 "nbformat": 4,
 "nbformat_minor": 2
}
